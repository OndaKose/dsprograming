{
 "cells": [
  {
   "cell_type": "code",
   "execution_count": null,
   "metadata": {},
   "outputs": [],
   "source": [
    "#test\n",
    "\n",
    "# 必要なライブラリのインポート\n",
    "from bs4 import BeautifulSoup\n",
    "import requests\n",
    "\n",
    "# スクレイピングするURLのリスト\n",
    "urls = [\n",
    "    \"https://nf3.sakura.ne.jp/php/stat_disp/stat_disp.php?y=2022&leg=0&mon=0&tm=DB&vst=all\",\n",
    "    \"https://nf3.sakura.ne.jp/php/stat_disp/stat_disp.php?y=0&leg=0&mon=0&tm=DB&vst=all\"\n",
    "]\n",
    "\n",
    "# スクレイピングしたデータを保存するためのリスト\n",
    "scraped_data = []"
   ]
  }
 ],
 "metadata": {
  "language_info": {
   "name": "python"
  }
 },
 "nbformat": 4,
 "nbformat_minor": 2
}
