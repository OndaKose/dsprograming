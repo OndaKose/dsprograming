{
 "cells": [
  {
   "cell_type": "code",
   "execution_count": 3,
   "metadata": {},
   "outputs": [],
   "source": [
    "#test"
   ]
  },
  {
   "cell_type": "code",
   "execution_count": 5,
   "metadata": {},
   "outputs": [
    {
     "name": "stdout",
     "output_type": "stream",
     "text": [
      "       日付  曜   対戦T   先発名 勝敗  スコア   相手先発\n",
      "0   6月28日  火    阪神    大貫  ○  6−2      西\n",
      "1    7月2日  日    中日     東  ○  3−2     涌井\n",
      "2    7月6日  木  ヤクルト  バウアー  ○  3−2     丸山\n",
      "3    7月8日  金    巨人    今永  △  3−3    山﨑伊\n",
      "4   8月17日  水    巨人    濱口  ●  7−3  メルセデス\n",
      "5   8月28日  日  ヤクルト    京山  ●  4−5      原\n",
      "6   9月10日  土    阪神    石田  ○  7−0     森木\n",
      "7   9月16日  金    広島    濱口  ●  3−5    大瀬良\n",
      "8   9月25日  月    巨人    大貫  ○  1−0   メンデス\n",
      "9   9月26日  火    巨人     東  ○  1−0    山﨑伊\n",
      "10  9月27日  火    中日   上茶谷  ○  8−3     勝野\n",
      "11  9月29日  金    阪神    石田  ○  5−3     青柳\n"
     ]
    }
   ],
   "source": [
    "import pandas as pd\n",
    "\n",
    "# CSVファイルを読み込む\n",
    "df = pd.read_csv('local-data.csv', encoding='utf-8')\n",
    "\n",
    "# pandasのデータフレームを確認する\n",
    "print(df)"
   ]
  }
 ],
 "metadata": {
  "kernelspec": {
   "display_name": "Python 3",
   "language": "python",
   "name": "python3"
  },
  "language_info": {
   "codemirror_mode": {
    "name": "ipython",
    "version": 3
   },
   "file_extension": ".py",
   "mimetype": "text/x-python",
   "name": "python",
   "nbconvert_exporter": "python",
   "pygments_lexer": "ipython3",
   "version": "3.9.6"
  }
 },
 "nbformat": 4,
 "nbformat_minor": 2
}
